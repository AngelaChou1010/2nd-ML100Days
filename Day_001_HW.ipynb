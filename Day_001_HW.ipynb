{
 "cells": [
  {
   "cell_type": "raw",
   "metadata": {},
   "source": [
    "作業1：\n",
    "請上 Kaggle, 在 Competitions 或 Dataset 中找一組競賽或資料並寫下：\n",
    "1. 你選的這組資料為何重要\n",
    "   （1）kaggle資料：Forest Cover Type\n",
    "   （2）包含以下Data Fields\n",
    "       -Elevation - Elevation in meters\n",
    "       -Aspect - Aspect in degrees azimuth\n",
    "       -Slope - Slope in degrees\n",
    "       -Horizontal_Distance_To_Hydrology - Horz Dist to nearest surface water features\n",
    "       -Vertical_Distance_To_Hydrology - Vert Dist to nearest surface water features\n",
    "       -Horizontal_Distance_To_Roadways - Horz Dist to nearest roadway\n",
    "       -Hillshade_9am (0 to 255 index) - Hillshade index at 9am, summer solstice\n",
    "       -Hillshade_Noon (0 to 255 index) - Hillshade index at noon, summer solstice\n",
    "       -Hillshade_3pm (0 to 255 index) - Hillshade index at 3pm, summer solstice\n",
    "       -Horizontal_Distance_To_Fire_Points - Horz Dist to nearest wildfire ignition points\n",
    "       -Wilderness_Area (4 binary columns, 0 = absence or 1 = presence) - Wilderness area designation\n",
    "       -Soil_Type (40 binary columns, 0 = absence or 1 = presence) - Soil Type designation\n",
    "       -Cover_Type (7 types, integers 1 to 7) - Forest Cover Type designation \n",
    "   （3）蒐集了7種植物生長環境的特徵,包含土壤,海拔,坡度等,希望藉此能找到哪些是有利於特定植物生長的關鍵因素\n",
    "    \n",
    "2. 資料從何而來 (tips: 譬如提供者是誰、以什麼方式蒐集)\n",
    "   資料來自於US Geological Survey及US Forest Service (USFS),\n",
    "   經由觀察northern Colorado的Roosevelt National Forest而得來的數據\n",
    "\n",
    "3. 蒐集而來的資料型態為何\n",
    "   皆為類別變數（qualitative variables）\n",
    "\n",
    "4. 這組資料想解決的問題如何評估\n",
    "  （1）會使用分類的模型來建立模型並預測哪一些環境特徵比較可能會出現哪些植物生長\n",
    "  （2）將training data再切分出一部份作為validate data,用training data建立模型之後,再利用validate data丟入模型來確認此模型預估的  正確性有多高\n",
    "  （3）可使用混淆矩陣（confusion matrix）來看出分類是否正確"
   ]
  },
  {
   "cell_type": "raw",
   "metadata": {},
   "source": [
    "作業2：\n",
    "想像你經營一個自由載客車隊，你希望能透過數據分析以提升業績，請你思考並描述你如何規劃整體的分析/解決方案：\n",
    "1. 核心問題為何 (tips：如何定義 「提升業績 & 你的假設」)\n",
    "   至載客地點距離越短且載客距離越長則業績會增加,如何找到至載客地點距離短的且載客距離長的物件,可針對這些顧客做推薦或行銷\n",
    "   \n",
    "2. 資料從何而來 (tips：哪些資料可能會對你想問的問題產生影響 & 資料如何蒐集)\n",
    "   載客資訊系統所紀錄的每一次載客的乘客id及基本資訊（如,手機號碼,信用卡號等等）,上下車時間, 乘車時間,上下車地點（縣市鄉鎮路段或經緯度）,等車時間等\n",
    "\n",
    "3. 蒐集而來的資料型態為何\n",
    "   乘車時間及等車時間為數值\n",
    "   上下車時間及上下車地點傾向分成區間並轉換成類別變數,上下車時間可能分為早中晚,上下車地點以路段來分類\n",
    "\n",
    "4. 你要回答的問題，其如何評估 (tips：你的假設如何驗證)\n",
    "   找出何種特徵會讓等待時間短且乘車時間長,再嘗試使用新資料（新顧客）的結果來驗證這樣的假設是否正確"
   ]
  },
  {
   "cell_type": "raw",
   "metadata": {},
   "source": [
    "作業3："
   ]
  },
  {
   "cell_type": "markdown",
   "metadata": {},
   "source": [
    "## 練習時間\n",
    "#### 請寫一個函式用來計算 Mean Square Error\n",
    "$ MSE = \\frac{1}{n}\\sum_{i=1}^{n}{(Y_i - \\hat{Y}_i)^2} $\n",
    "\n",
    "### Hint: [如何取平方](https://googoodesign.gitbooks.io/-ezpython/unit-1.html)"
   ]
  },
  {
   "cell_type": "code",
   "execution_count": 6,
   "metadata": {
    "collapsed": false
   },
   "outputs": [],
   "source": [
    "import numpy as np\n",
    "import matplotlib.pyplot as plt"
   ]
  },
  {
   "cell_type": "code",
   "execution_count": 7,
   "metadata": {
    "collapsed": false
   },
   "outputs": [],
   "source": [
    "def mean_squared_error(y, yp):\n",
    "    \"\"\"\n",
    "    請完成這個 Function 後往下執行\n",
    "    \"\"\"\n",
    "    serr = np.array([])\n",
    "    i=0\n",
    "    for i in range (len(y)):\n",
    "        \n",
    "        i+=1\n",
    "        se = np.square(y - yp)\n",
    "        all_serr = np.append(serr, se)\n",
    "        \n",
    "    #print(all_serr)      \n",
    "    mse = sum(all_serr) / len(y)  \n",
    "    return mse\n",
    "\n",
    "\n",
    "def mean_absolute_error(y, yp):\n",
    "    \"\"\"\n",
    "    計算 MAE\n",
    "    Args:\n",
    "        - y: 實際值\n",
    "        - yp: 預測值\n",
    "    Return:\n",
    "        - mae: MAE\n",
    "    \"\"\"\n",
    "    aberr = np.array([])\n",
    "    i = 0\n",
    "    for i in range (len(y)):\n",
    "        \n",
    "        i+= 1\n",
    "        ab = abs(y - yp) \n",
    "        all_aberr = np.append(aberr, ab)\n",
    "        \n",
    "    #print(type(aberr))\n",
    "    #print(aberr.dtype)\n",
    "    #print(all_aberr)\n",
    "    mae = MAE = sum(all_aberr) / len(y)\n",
    "    return mae"
   ]
  },
  {
   "cell_type": "code",
   "execution_count": 8,
   "metadata": {
    "collapsed": false
   },
   "outputs": [
    {
     "data": {
      "image/png": "[encoded data removed]",
      "text/plain": [
       "<matplotlib.figure.Figure at 0x7f8a4d249e48>"
      ]
     },
     "metadata": {},
     "output_type": "display_data"
    }
   ],
   "source": [
    "w = 3\n",
    "b = 0.5\n",
    "\n",
    "x_lin = np.linspace(0, 100, 101) #等差數列 ,預設為50個 ,n=101\n",
    "\n",
    "y = (x_lin + np.random.randn(101) * 5) * w + b\n",
    "\n",
    "#print(y)\n",
    "\n",
    "plt.plot(x_lin, y, 'b.', label = 'data points')\n",
    "plt.title(\"Assume we have data points\")\n",
    "plt.legend(loc = 2)\n",
    "plt.show()"
   ]
  },
  {
   "cell_type": "code",
   "execution_count": 9,
   "metadata": {
    "collapsed": false
   },
   "outputs": [
    {
     "data": {
      "image/png": "[encoded data removed]",
      "text/plain": [
       "<matplotlib.figure.Figure at 0x7f8a4d0a8860>"
      ]
     },
     "metadata": {},
     "output_type": "display_data"
    }
   ],
   "source": [
    "y_hat = x_lin * w + b\n",
    "\n",
    "#print(y_hat)\n",
    "plt.plot(x_lin, y, 'b.', label = 'data')\n",
    "plt.plot(x_lin, y_hat, 'r-', label = 'prediction')\n",
    "plt.title(\"Assume we have data points (And the prediction)\")\n",
    "plt.legend(loc = 2)\n",
    "plt.show()"
   ]
  },
  {
   "cell_type": "code",
   "execution_count": 10,
   "metadata": {
    "collapsed": false
   },
   "outputs": [
    {
     "name": "stdout",
     "output_type": "stream",
     "text": [
      "<class 'numpy.ndarray'>\n",
      "float64\n",
      "The Mean squared error is 202.417\n",
      "The Mean absolute error is 11.197\n"
     ]
    }
   ],
   "source": [
    "# 執行 Function, 確認有沒有正常執行\n",
    "MSE = mean_squared_error(y, y_hat)\n",
    "MAE = mean_absolute_error(y, y_hat)\n",
    "print(\"The Mean squared error is %.3f\" % (MSE))\n",
    "print(\"The Mean absolute error is %.3f\" % (MAE))"
   ]
  },
  {
   "cell_type": "code",
   "execution_count": null,
   "metadata": {
    "collapsed": true
   },
   "outputs": [],
   "source": []
  }
 ],
 "metadata": {
  "anaconda-cloud": {},
  "kernelspec": {
   "display_name": "Python 3",
   "language": "python",
   "name": "python3"
  },
  "language_info": {
   "codemirror_mode": {
    "name": "ipython",
    "version": 3
   },
   "file_extension": ".py",
   "mimetype": "text/x-python",
   "name": "python",
   "nbconvert_exporter": "python",
   "pygments_lexer": "ipython3",
   "version": "3.6.0"
  }
 },
 "nbformat": 4,
 "nbformat_minor": 1
}
