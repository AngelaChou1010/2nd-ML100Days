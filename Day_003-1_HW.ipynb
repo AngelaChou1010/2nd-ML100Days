{
 "cells": [
  {
   "cell_type": "markdown",
   "metadata": {},
   "source": [
    "## 練習時間\n",
    "在小量的資料上，我們用眼睛就可以看得出來程式碼是否有跑出我們理想中的結果\n",
    "\n",
    "請嘗試想像一個你需要的資料結構 (裡面的值可以是隨機的)，然後用上述的方法把它變成 pandas DataFrame\n",
    "\n",
    "#### Ex: 想像一個 dataframe 有兩個欄位，一個是國家，一個是人口，求人口數最多的國家\n",
    "\n",
    "### Hints: [隨機產生數值](https://blog.csdn.net/christianashannon/article/details/78867204)"
   ]
  },
  {
   "cell_type": "code",
   "execution_count": 294,
   "metadata": {
    "collapsed": true
   },
   "outputs": [],
   "source": [
    "import pandas as pd\n",
    "import numpy as np\n",
    "import random"
   ]
  },
  {
   "cell_type": "code",
   "execution_count": 295,
   "metadata": {
    "collapsed": false
   },
   "outputs": [
    {
     "name": "stdout",
     "output_type": "stream",
     "text": [
      "        人口           國家\n",
      "0  1085818        China\n",
      "1  2275826           US\n",
      "2  1279081           UK\n",
      "3  3641183  New Zealand\n"
     ]
    }
   ],
   "source": [
    "#法一\n",
    "data = {'國家':['China', 'US', 'UK', 'New Zealand'],\n",
    "        '人口': np.random.randint(5000000,size=4) }\n",
    "#print(type(data))\n",
    "data = pd.DataFrame(data)\n",
    "#print(type(data))\n",
    "print(data)"
   ]
  },
  {
   "cell_type": "code",
   "execution_count": 296,
   "metadata": {
    "collapsed": false
   },
   "outputs": [
    {
     "name": "stdout",
     "output_type": "stream",
     "text": [
      "        nation  population\n",
      "0        China      202419\n",
      "1           US     1305585\n",
      "2           UK     1357423\n",
      "3  New Zealand     4424081\n"
     ]
    }
   ],
   "source": [
    "#法二\n",
    "國家=['China', 'US', 'UK', 'New Zealand']\n",
    "人口= np.random.randint(5000000,size=4)\n",
    "list_labels = ['nation', 'population']\n",
    "list_cols = [國家, 人口]\n",
    "zipped = list(zip(list_labels, list_cols))\n",
    "#print(zipped)\n",
    "#print(dict(zipped))\n",
    "#print(pd.DataFrame(zipped))\n",
    "print(pd.DataFrame(dict(zipped)))"
   ]
  },
  {
   "cell_type": "code",
   "execution_count": 297,
   "metadata": {
    "collapsed": false
   },
   "outputs": [
    {
     "name": "stdout",
     "output_type": "stream",
     "text": [
      "<class 'pandas.core.series.Series'>\n",
      "<class 'pandas.core.frame.DataFrame'>\n",
      "3641183\n",
      "3\n",
      "人口        3641183\n",
      "國家    New Zealand\n",
      "Name: 3, dtype: object\n"
     ]
    }
   ],
   "source": [
    "print(type(data['人口'])) #dataframe取值 ,output為series\n",
    "print(type(data[['人口']])) #dataframe取值 ,output為dataframe\n",
    "#print(data.iloc[0:])  #dataframe取值\n",
    "\n",
    "#需要groupby的時候使用\n",
    "#data.groupby(by='國家',as_index=False)['人口'].max()\n",
    "\n",
    "max_vaule = data['人口'].max()\n",
    "print(max_vaule)\n",
    "\n",
    "max_index = np.argmax(data['人口'])\n",
    "print(max_index)\n",
    "\n",
    "max_nation = data.loc[data['人口'].idxmax()]\n",
    "print(max_nation)"
   ]
  }
 ],
 "metadata": {
  "kernelspec": {
   "display_name": "Python 3",
   "language": "python",
   "name": "python3"
  },
  "language_info": {
   "codemirror_mode": {
    "name": "ipython",
    "version": 3
   },
   "file_extension": ".py",
   "mimetype": "text/x-python",
   "name": "python",
   "nbconvert_exporter": "python",
   "pygments_lexer": "ipython3",
   "version": "3.6.0"
  }
 },
 "nbformat": 4,
 "nbformat_minor": 2
}
